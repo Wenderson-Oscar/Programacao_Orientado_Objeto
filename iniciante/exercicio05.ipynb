{
 "cells": [
  {
   "cell_type": "markdown",
   "metadata": {},
   "source": [
    "5º Classe Conta: Crie uma classe que modele uma Conta Bancaria\n",
    "\n",
    "a) Atributos: titular, número da conta ,saldo, limite\n",
    "\n",
    "b Métodos: extrato, deposito, sacar"
   ]
  },
  {
   "cell_type": "code",
   "execution_count": 6,
   "metadata": {},
   "outputs": [
    {
     "data": {
      "text/plain": [
       "50000"
      ]
     },
     "execution_count": 6,
     "metadata": {},
     "output_type": "execute_result"
    }
   ],
   "source": [
    "class Conta:\n",
    "    #Método Construtor\n",
    "    def __init__(self, titular, n_conta, saldo = 0, limite = 1000):\n",
    "        self.titular = titular\n",
    "        self.n_conta = n_conta\n",
    "        self.saldo = saldo\n",
    "        self.limite = limite\n",
    "\n",
    "\n",
    "    def extrato(self):\n",
    "        return self.titular, self.n_conta, self.saldo\n",
    "\n",
    "\n",
    "    def depositar(self, valor):\n",
    "        self.saldo += valor\n",
    "\n",
    "\n",
    "    def sacar(self, valor):\n",
    "        if self.saldo >= valor:\n",
    "            if valor <= self.limite:\n",
    "                self.saldo -= valor\n",
    "            else:\n",
    "                return 'Limite de saque alcansado'\n",
    "        else:\n",
    "            return 'saldo Insuficiente!'\n",
    "\n",
    "obj = Conta('Oscar',1234, 50000)\n",
    "obj.saldo"
   ]
  },
  {
   "cell_type": "markdown",
   "metadata": {},
   "source": [
    "Como podemos ver no Método Construtor na linha 3, podemos definir o tipo do atributo, um exemplo claro é o limite = 1000,  estamos dizendo que o limite da conta já no construtor.\n",
    "\n",
    "Também podemos dizer que tipo de dados cada atributo tera, apenas dizemos da seguinte forma:\n",
    "nome: str, idade: int, etc...\n"
   ]
  }
 ],
 "metadata": {
  "kernelspec": {
   "display_name": "Python 3.8.10 64-bit",
   "language": "python",
   "name": "python3"
  },
  "language_info": {
   "codemirror_mode": {
    "name": "ipython",
    "version": 3
   },
   "file_extension": ".py",
   "mimetype": "text/x-python",
   "name": "python",
   "nbconvert_exporter": "python",
   "pygments_lexer": "ipython3",
   "version": "3.8.10"
  },
  "orig_nbformat": 4,
  "vscode": {
   "interpreter": {
    "hash": "916dbcbb3f70747c44a77c7bcd40155683ae19c65e1c03b4aa3499c5328201f1"
   }
  }
 },
 "nbformat": 4,
 "nbformat_minor": 2
}
