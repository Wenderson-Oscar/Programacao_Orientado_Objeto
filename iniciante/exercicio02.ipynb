{
 "cells": [
  {
   "cell_type": "markdown",
   "metadata": {},
   "source": [
    "2º Classe Quadrado: Crie uma classe que modele um quadrado:\n",
    "\n",
    "a) Atributos: tamanho do lado\n",
    "\n",
    "b) Métodos: Mudar valor do lado, mostrar valor do lado, calcular área.\n"
   ]
  },
  {
   "cell_type": "code",
   "execution_count": 1,
   "metadata": {},
   "outputs": [
    {
     "data": {
      "text/plain": [
       "64"
      ]
     },
     "execution_count": 1,
     "metadata": {},
     "output_type": "execute_result"
    }
   ],
   "source": [
    "class Quadrado:\n",
    "    #Método Construtor\n",
    "    def __init__(self, tamanho_do_lado):\n",
    "        self.tamanho_do_lado = tamanho_do_lado\n",
    "\n",
    "\n",
    "    def mudar_valor_lado(self, valor=0):\n",
    "        self.tamanho_do_lado = valor\n",
    "\n",
    "\n",
    "    def mostra_valor_lado(self):\n",
    "        return self.tamanho_do_lado\n",
    "\n",
    "    \n",
    "    def calcular_area(self):\n",
    "        return self.tamanho_do_lado * self.tamanho_do_lado\n",
    "\n",
    "\n",
    "obj = Quadrado(4)\n",
    "obj.mudar_valor_lado(8)\n",
    "obj.mostra_valor_lado()\n",
    "obj.calcular_area()"
   ]
  }
 ],
 "metadata": {
  "kernelspec": {
   "display_name": "Python 3.8.10 64-bit",
   "language": "python",
   "name": "python3"
  },
  "language_info": {
   "codemirror_mode": {
    "name": "ipython",
    "version": 3
   },
   "file_extension": ".py",
   "mimetype": "text/x-python",
   "name": "python",
   "nbconvert_exporter": "python",
   "pygments_lexer": "ipython3",
   "version": "3.8.10"
  },
  "orig_nbformat": 4,
  "vscode": {
   "interpreter": {
    "hash": "916dbcbb3f70747c44a77c7bcd40155683ae19c65e1c03b4aa3499c5328201f1"
   }
  }
 },
 "nbformat": 4,
 "nbformat_minor": 2
}
