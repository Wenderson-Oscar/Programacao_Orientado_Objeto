{
 "cells": [
  {
   "cell_type": "markdown",
   "metadata": {},
   "source": [
    "Crie uma classe Controle Remoto que Tenhas os Atributos marca, cor, largura, profundidade.\n",
    "Métodos: aumentar volume, Diminuir volume, mudar de canal, ligar, desligar."
   ]
  },
  {
   "cell_type": "code",
   "execution_count": 5,
   "metadata": {},
   "outputs": [
    {
     "data": {
      "text/plain": [
       "True"
      ]
     },
     "execution_count": 5,
     "metadata": {},
     "output_type": "execute_result"
    }
   ],
   "source": [
    "class Controle:\n",
    "\n",
    "    def __init__(self, marca, cor, largura, profundidade):\n",
    "        self.marca = marca\n",
    "        self.cor = cor\n",
    "        self.largura = largura\n",
    "        self.profundidade = profundidade\n",
    "        self.ligar = False\n",
    "        self.canal = 99\n",
    "        self.volume = 99\n",
    "\n",
    "\n",
    "    def off(self):\n",
    "        self.ligar = False\n",
    "\n",
    "\n",
    "    def on(self):\n",
    "        self.ligar = True\n",
    "\n",
    "\n",
    "    def canal_cima(self):\n",
    "        if self.canal < 100:\n",
    "            self.canal += 1\n",
    "        else:\n",
    "            return self.canal\n",
    "\n",
    "\n",
    "    def canal_baixo(self):\n",
    "        if self.canal > 0:\n",
    "            self.canal -= 1\n",
    "        else:\n",
    "            return self.canal \n",
    "\n",
    "\n",
    "    def aumentar_volume(self):\n",
    "        if self.volume < 100:\n",
    "            self.volume += 1\n",
    "        else:\n",
    "            return self.volume\n",
    "\n",
    "\n",
    "    def diminui_volume(self):\n",
    "        if self.volume > 0:\n",
    "            self.volume -= 1\n",
    "        else:\n",
    "            return self.volume\n",
    "\n",
    "\n",
    "obj = Controle('ASI','Azul','10cm','3cm')\n",
    "obj.on()\n",
    "obj.ligar"
   ]
  }
 ],
 "metadata": {
  "kernelspec": {
   "display_name": "Python 3.8.10 64-bit",
   "language": "python",
   "name": "python3"
  },
  "language_info": {
   "codemirror_mode": {
    "name": "ipython",
    "version": 3
   },
   "file_extension": ".py",
   "mimetype": "text/x-python",
   "name": "python",
   "nbconvert_exporter": "python",
   "pygments_lexer": "ipython3",
   "version": "3.8.10"
  },
  "orig_nbformat": 4,
  "vscode": {
   "interpreter": {
    "hash": "916dbcbb3f70747c44a77c7bcd40155683ae19c65e1c03b4aa3499c5328201f1"
   }
  }
 },
 "nbformat": 4,
 "nbformat_minor": 2
}
