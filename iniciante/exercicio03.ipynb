{
 "cells": [
  {
   "cell_type": "markdown",
   "metadata": {},
   "source": [
    "3º Classe Retangulo: Crie uma classe que modele um retângulo:\n",
    "\n",
    "a) Atributos: LadoA, LadoB (ou comprimento e largura, ou base e altura)\n",
    "\n",
    "b) Métodos: Mudar valor dos valor, retornar valor dos lados, calcula área, calcula perímetro\n"
   ]
  },
  {
   "cell_type": "code",
   "execution_count": 1,
   "metadata": {},
   "outputs": [
    {
     "data": {
      "text/plain": [
       "34"
      ]
     },
     "execution_count": 1,
     "metadata": {},
     "output_type": "execute_result"
    }
   ],
   "source": [
    "class Retangulo:\n",
    "    #Método Construtor\n",
    "    def __init__(self, ladoA, ladoB):\n",
    "        self.ladoA = ladoA\n",
    "        self.ladoB = ladoB\n",
    "\n",
    "\n",
    "    def mudar_valores(self, valor1 = 0, valor2 = 0):\n",
    "        self.ladoA = valor1\n",
    "        self.ladoB = valor2\n",
    "\n",
    "\n",
    "    def mostrar_valores(self):\n",
    "        return self.ladoA, self.ladoB\n",
    "    \n",
    "\n",
    "    def calcular_area(self):\n",
    "        return self.ladoA * self.ladoB\n",
    "\n",
    "\n",
    "    def calcular_perimentro(self):\n",
    "        return (self.ladoA+self.ladoA) + (self.ladoB+self.ladoB)\n",
    "\n",
    "\n",
    "obj = Retangulo(5, 12)\n",
    "obj.calcular_perimentro()\n"
   ]
  }
 ],
 "metadata": {
  "kernelspec": {
   "display_name": "Python 3.8.10 64-bit",
   "language": "python",
   "name": "python3"
  },
  "language_info": {
   "codemirror_mode": {
    "name": "ipython",
    "version": 3
   },
   "file_extension": ".py",
   "mimetype": "text/x-python",
   "name": "python",
   "nbconvert_exporter": "python",
   "pygments_lexer": "ipython3",
   "version": "3.8.10"
  },
  "orig_nbformat": 4,
  "vscode": {
   "interpreter": {
    "hash": "916dbcbb3f70747c44a77c7bcd40155683ae19c65e1c03b4aa3499c5328201f1"
   }
  }
 },
 "nbformat": 4,
 "nbformat_minor": 2
}
