{
 "cells": [
  {
   "cell_type": "markdown",
   "metadata": {},
   "source": [
    "Crie uma classe Quadrilátero que tenha como método calcula área, sendo que se receber um parâmetro vai calcular a área de um quadrado e se receber 2 parâmetros vai calcular a área de um retângulo."
   ]
  },
  {
   "cell_type": "code",
   "execution_count": 9,
   "metadata": {},
   "outputs": [
    {
     "data": {
      "text/plain": [
       "144"
      ]
     },
     "execution_count": 9,
     "metadata": {},
     "output_type": "execute_result"
    }
   ],
   "source": [
    "class Quadrilatero:\n",
    "\n",
    "    def __init__(self, ladoA, ladoB = 0):\n",
    "        self.ladoA = ladoA\n",
    "        self.ladoB = ladoB\n",
    "\n",
    "\n",
    "    def calcular_area(self):\n",
    "        if self.ladoB == 0:\n",
    "            return self.ladoA * self.ladoA\n",
    "        else:\n",
    "            return self.ladoA * self.ladoB\n",
    "\n",
    "\n",
    "obj = Quadrilatero(12)\n",
    "obj.calcular_area()"
   ]
  }
 ],
 "metadata": {
  "kernelspec": {
   "display_name": "Python 3.8.10 64-bit",
   "language": "python",
   "name": "python3"
  },
  "language_info": {
   "codemirror_mode": {
    "name": "ipython",
    "version": 3
   },
   "file_extension": ".py",
   "mimetype": "text/x-python",
   "name": "python",
   "nbconvert_exporter": "python",
   "pygments_lexer": "ipython3",
   "version": "3.8.10"
  },
  "orig_nbformat": 4,
  "vscode": {
   "interpreter": {
    "hash": "916dbcbb3f70747c44a77c7bcd40155683ae19c65e1c03b4aa3499c5328201f1"
   }
  }
 },
 "nbformat": 4,
 "nbformat_minor": 2
}
