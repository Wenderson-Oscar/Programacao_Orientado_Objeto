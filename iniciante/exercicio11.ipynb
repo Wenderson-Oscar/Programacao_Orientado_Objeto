{
 "cells": [
  {
   "cell_type": "markdown",
   "metadata": {},
   "source": [
    "Crie uma classe qualquer que use Composição"
   ]
  },
  {
   "cell_type": "markdown",
   "metadata": {},
   "source": [
    "# Composição\n",
    "Pode-se dizer que composição é uma variação da agregação. Uma composição tenta representar também uma relação todo - parte. No entanto, na composição o objeto-pai (todo) é responsável por criar e destruir suas partes. Em uma composição um mesmo objeto-parte não pode se associar a mais de um objeto-pai.\n",
    "\n",
    "Toda vez que temos composição, significa que a parte não existe sem o todo."
   ]
  },
  {
   "cell_type": "code",
   "execution_count": 12,
   "metadata": {},
   "outputs": [
    {
     "name": "stdout",
     "output_type": "stream",
     "text": [
      "('Brazil', 'Maranhão', 'Timon') Foi deletado\n",
      "('Brazil', 'Píaui', 'Corrente') Foi deletado\n",
      "Brazil Píaui Corrente\n",
      "('Brazil', 'Píaui', 'Corrente') Foi deletado\n"
     ]
    }
   ],
   "source": [
    "class Endereco:\n",
    "\n",
    "    def __init__(self, pais, estado, municipio):\n",
    "        self.pais = pais\n",
    "        self.estado = estado\n",
    "        self.municipio = municipio\n",
    "\n",
    "\n",
    "    def __del__(self):\n",
    "        print(f'{self.pais, self.estado, self.municipio} Foi deletado')\n",
    "\n",
    "\n",
    "class Cliente:\n",
    "\n",
    "    def __init__(self, nome, idade, sexo):\n",
    "        self.nome = nome\n",
    "        self.idade = idade\n",
    "        self.sexo = sexo\n",
    "        self.endereco = []\n",
    "\n",
    "\n",
    "    def inserir_endereco(self, pais, estado, municipio):\n",
    "        self.endereco.append(Endereco(pais, estado, municipio))\n",
    "\n",
    "\n",
    "    def listar_enderecos(self):\n",
    "        for endereco in self.endereco:\n",
    "            print(endereco.pais, endereco.estado, endereco.municipio)\n",
    "\n",
    "\n",
    "    def _del__(self):\n",
    "        print(f'{self.nome, self.idade, self.sexo} Foi deletado')\n",
    "\n",
    "\n",
    "cliente0 = Cliente('Oscar',20,'M')\n",
    "cliente0.inserir_endereco('Brazil','Píaui','Corrente')\n",
    "cliente0.listar_enderecos()\n",
    "del cliente0"
   ]
  }
 ],
 "metadata": {
  "kernelspec": {
   "display_name": "Python 3.8.10 64-bit",
   "language": "python",
   "name": "python3"
  },
  "language_info": {
   "codemirror_mode": {
    "name": "ipython",
    "version": 3
   },
   "file_extension": ".py",
   "mimetype": "text/x-python",
   "name": "python",
   "nbconvert_exporter": "python",
   "pygments_lexer": "ipython3",
   "version": "3.8.10"
  },
  "orig_nbformat": 4,
  "vscode": {
   "interpreter": {
    "hash": "916dbcbb3f70747c44a77c7bcd40155683ae19c65e1c03b4aa3499c5328201f1"
   }
  }
 },
 "nbformat": 4,
 "nbformat_minor": 2
}
