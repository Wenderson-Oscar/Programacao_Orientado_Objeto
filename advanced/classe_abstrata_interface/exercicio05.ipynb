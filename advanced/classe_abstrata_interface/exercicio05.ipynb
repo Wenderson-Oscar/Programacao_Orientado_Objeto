{
 "cells": [
  {
   "cell_type": "code",
   "execution_count": 2,
   "metadata": {},
   "outputs": [
    {
     "name": "stdout",
     "output_type": "stream",
     "text": [
      "Titular: Oscar\n",
      "CPF: 123.321.345-22\n",
      "Nota Fiscal Nº: 1\n",
      "Valor: 400\n",
      "forma de pagamento: Pagamento em Credito\n"
     ]
    }
   ],
   "source": [
    "from abc import ABC, abstractmethod\n",
    "from typing import Type\n",
    "\n",
    "class DadosPagamento:\n",
    "\n",
    "    def __init__(self, nome: str, idade: int, sexo: str, renda: float, cpf: str):\n",
    "        self._nome = nome\n",
    "        self._idade = idade\n",
    "        self._sexo = sexo\n",
    "        self._renda = renda\n",
    "        self._cpf = cpf\n",
    "\n",
    "\n",
    "    def get_dados(self) -> set:\n",
    "        print(f'Titular: {self._nome}\\nCPF: {self._cpf}')\n",
    "\n",
    "\n",
    "class PagamentoInterface(ABC):\n",
    "\n",
    "    @abstractmethod\n",
    "    def pagamento(self):\n",
    "        pass\n",
    "\n",
    "\n",
    "class PagamentoPix(PagamentoInterface):\n",
    "\n",
    "    def pagamento(self) -> str:\n",
    "        return 'Pagamento em Pix'\n",
    "\n",
    "\n",
    "class PagamentoDebito(PagamentoInterface):\n",
    "\n",
    "    def pagamento(self) -> str:\n",
    "        return 'Pagamento em Debito'\n",
    "\n",
    "\n",
    "class PagamentoCredito(PagamentoInterface):\n",
    "\n",
    "    def pagamento(self) -> str:\n",
    "        return 'Pagamento em Credito'\n",
    "\n",
    "\n",
    "class Pedido:\n",
    "\n",
    "    def __init__(self, notafiscal: int, valortotal: float):\n",
    "        self.notafiscal = notafiscal\n",
    "        self.valortotal = valortotal\n",
    "\n",
    "\n",
    "    def fazerpagamento(self, formapagamento: Type[PagamentoInterface], dados_cliente: Type[DadosPagamento]):\n",
    "        pagamento = formapagamento.pagamento()\n",
    "        dados = dados_cliente.get_dados()\n",
    "        print(f'Nota Fiscal Nº: {self.notafiscal}\\nValor: {self.valortotal}\\nforma de pagamento: {pagamento}')\n",
    "\n",
    "\n",
    "obj = DadosPagamento('Oscar',20,'M',1200.10,'123.321.345-22')\n",
    "obj1 = PagamentoCredito()\n",
    "obj2 = Pedido(1,400)\n",
    "obj2.fazerpagamento(obj1,obj)"
   ]
  }
 ],
 "metadata": {
  "kernelspec": {
   "display_name": "Python 3.8.10 64-bit",
   "language": "python",
   "name": "python3"
  },
  "language_info": {
   "codemirror_mode": {
    "name": "ipython",
    "version": 3
   },
   "file_extension": ".py",
   "mimetype": "text/x-python",
   "name": "python",
   "nbconvert_exporter": "python",
   "pygments_lexer": "ipython3",
   "version": "3.8.10"
  },
  "orig_nbformat": 4,
  "vscode": {
   "interpreter": {
    "hash": "916dbcbb3f70747c44a77c7bcd40155683ae19c65e1c03b4aa3499c5328201f1"
   }
  }
 },
 "nbformat": 4,
 "nbformat_minor": 2
}
