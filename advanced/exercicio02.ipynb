{
 "cells": [
  {
   "cell_type": "code",
   "execution_count": 1,
   "metadata": {},
   "outputs": [
    {
     "name": "stdout",
     "output_type": "stream",
     "text": [
      "Um gato anda\n"
     ]
    },
    {
     "data": {
      "text/plain": [
       "'Um cachorro corre'"
      ]
     },
     "execution_count": 1,
     "metadata": {},
     "output_type": "execute_result"
    }
   ],
   "source": [
    "from abc import ABC, abstractmethod\n",
    "\n",
    "class Animal(ABC):\n",
    "\n",
    "    def __init__(self):\n",
    "        pass\n",
    "\n",
    "\n",
    "    @abstractmethod\n",
    "    def locomover(self):\n",
    "        pass\n",
    "\n",
    "\n",
    "class Gato(Animal):\n",
    "\n",
    "    def locomover(self):\n",
    "        print('Um gato anda')\n",
    "\n",
    "\n",
    "class Cachorro(Animal):\n",
    "\n",
    "    def locomover(self):\n",
    "        return 'Um cachorro corre'\n",
    "\n",
    "\n",
    "felino = Gato()\n",
    "felino.locomover()\n",
    "\n",
    "estimacao = Cachorro()\n",
    "estimacao.locomover()"
   ]
  }
 ],
 "metadata": {
  "kernelspec": {
   "display_name": "Python 3.8.10 64-bit",
   "language": "python",
   "name": "python3"
  },
  "language_info": {
   "codemirror_mode": {
    "name": "ipython",
    "version": 3
   },
   "file_extension": ".py",
   "mimetype": "text/x-python",
   "name": "python",
   "nbconvert_exporter": "python",
   "pygments_lexer": "ipython3",
   "version": "3.8.10 (default, Nov 14 2022, 12:59:47) \n[GCC 9.4.0]"
  },
  "orig_nbformat": 4,
  "vscode": {
   "interpreter": {
    "hash": "916dbcbb3f70747c44a77c7bcd40155683ae19c65e1c03b4aa3499c5328201f1"
   }
  }
 },
 "nbformat": 4,
 "nbformat_minor": 2
}
