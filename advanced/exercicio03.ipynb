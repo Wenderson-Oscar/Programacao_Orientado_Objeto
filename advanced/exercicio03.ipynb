{
 "cells": [
  {
   "cell_type": "markdown",
   "metadata": {},
   "source": [
    "# Interface\n",
    "\n",
    "### Minicraft"
   ]
  },
  {
   "cell_type": "code",
   "execution_count": 1,
   "metadata": {},
   "outputs": [
    {
     "name": "stdout",
     "output_type": "stream",
     "text": [
      "Oscar deu 60 de ataque com o Machado Glorioso\n",
      "Oscar deu 35 de ataque com o Bussula Sagrada\n"
     ]
    }
   ],
   "source": [
    "from abc import ABC, abstractmethod\n",
    "from typing import Type\n",
    "\n",
    "class FerramentaInterface(ABC):\n",
    "\n",
    "    def __init__(self, nome, composicao) -> None:\n",
    "        self.nome = nome\n",
    "        self.composicao = composicao\n",
    "    \n",
    "\n",
    "    @abstractmethod\n",
    "    def get_finalidade(self) -> str:\n",
    "        pass\n",
    "    \n",
    "\n",
    "    @abstractmethod\n",
    "    def get_poderDano(self)  -> int:\n",
    "        pass\n",
    "\n",
    "\n",
    "class Machado(FerramentaInterface):\n",
    "\n",
    "    def __init__(self, nome, composicao, largura, comprimento):\n",
    "        super().__init__(nome, composicao)\n",
    "        self.largura = largura\n",
    "        self.comprimento = comprimento\n",
    "    \n",
    "\n",
    "    def get_finalidade(self) -> str:\n",
    "        print('Corta madeira')\n",
    "    \n",
    "\n",
    "    def get_poderDano(self)  -> int:\n",
    "        if self.composicao == 'madeira':\n",
    "            return 10\n",
    "        elif self.composicao == 'pedra':\n",
    "            return 30\n",
    "        elif self.composicao == 'diamante':\n",
    "            return 60\n",
    "        elif self.composicao == 'ouro':\n",
    "            return 100\n",
    "\n",
    "\n",
    "class Bussula(FerramentaInterface):\n",
    "\n",
    "    def __init__(self, nome, composicao, circunferencia):\n",
    "        super().__init__(nome, composicao)\n",
    "        self.circunferencia = circunferencia\n",
    "    \n",
    "\n",
    "    def get_finalidade(self):\n",
    "        print('Localização')\n",
    "    \n",
    "\n",
    "    def get_poderDano(self):\n",
    "        if self.composicao == 'pedra':\n",
    "            return 10\n",
    "        elif self.composicao == 'diamante':\n",
    "            return 35\n",
    "        elif self.composicao == 'ouro':\n",
    "            return 50\n",
    "\n",
    "\n",
    "class Jogador:\n",
    "\n",
    "    def __init__(self, nome):\n",
    "        self.nome = nome\n",
    "    \n",
    "\n",
    "    def atacar_animal(self, ferramenta: Type[FerramentaInterface]):\n",
    "        ataque = ferramenta.get_poderDano()\n",
    "        print(f'{self.nome} deu {ataque} de ataque com o {ferramenta.nome}')\n",
    "    \n",
    "\n",
    "    def atacar_personagem(self, ferramenta: Type[FerramentaInterface]):\n",
    "        ataque = ferramenta.get_poderDano()\n",
    "        print(f'{self.nome} deu {ataque} de ataque com o {ferramenta.nome}')\n",
    "\n",
    "\n",
    "gamer = Jogador('Oscar')\n",
    "ferramenta_machado = Machado('Machado Glorioso', 'diamante', '0.30', '0.70')\n",
    "ferramenta_bussula = Bussula('Bussula Sagrada', 'diamante', '0.10')\n",
    "gamer.atacar_personagem(ferramenta_machado)\n",
    "gamer.atacar_animal(ferramenta_bussula)"
   ]
  }
 ],
 "metadata": {
  "kernelspec": {
   "display_name": "Python 3.8.10 64-bit",
   "language": "python",
   "name": "python3"
  },
  "language_info": {
   "codemirror_mode": {
    "name": "ipython",
    "version": 3
   },
   "file_extension": ".py",
   "mimetype": "text/x-python",
   "name": "python",
   "nbconvert_exporter": "python",
   "pygments_lexer": "ipython3",
   "version": "3.8.10 (default, Nov 14 2022, 12:59:47) \n[GCC 9.4.0]"
  },
  "orig_nbformat": 4,
  "vscode": {
   "interpreter": {
    "hash": "916dbcbb3f70747c44a77c7bcd40155683ae19c65e1c03b4aa3499c5328201f1"
   }
  }
 },
 "nbformat": 4,
 "nbformat_minor": 2
}
