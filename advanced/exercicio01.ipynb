{
 "cells": [
  {
   "cell_type": "markdown",
   "metadata": {},
   "source": [
    "# Classe Abstrata"
   ]
  },
  {
   "cell_type": "code",
   "execution_count": 1,
   "metadata": {},
   "outputs": [
    {
     "name": "stdout",
     "output_type": "stream",
     "text": [
      "Choque do Trovão \n",
      "Lança Chamas\n"
     ]
    }
   ],
   "source": [
    "from abc import ABC, abstractmethod\n",
    "\n",
    "class PokemonBase(ABC):\n",
    "\n",
    "  def __init__(self, nome, tipo):\n",
    "    self.nome = nome\n",
    "    self.tipo = tipo\n",
    "    self.nivel = 1 \n",
    "\n",
    "\n",
    "  @abstractmethod\n",
    "  def ataque_pricipal(self):\n",
    "    pass\n",
    "\n",
    "\n",
    "class Charmander(PokemonBase):\n",
    "\n",
    "    def ataque_pricipal(self):\n",
    "      return print('Lança Chamas')\n",
    "\n",
    "class Pikachu(PokemonBase):\n",
    "\n",
    "    def ataque_pricipal(self):\n",
    "      return print('Choque do Trovão ')\n",
    "\n",
    "\n",
    "pikachu = Pikachu('Pikachu', 'Eletrico')\n",
    "pikachu.ataque_pricipal()\n",
    "\n",
    "charmander = Charmander('Charmander', 'Fogo')\n",
    "charmander.ataque_pricipal()"
   ]
  }
 ],
 "metadata": {
  "kernelspec": {
   "display_name": "Python 3.8.10 64-bit",
   "language": "python",
   "name": "python3"
  },
  "language_info": {
   "codemirror_mode": {
    "name": "ipython",
    "version": 3
   },
   "file_extension": ".py",
   "mimetype": "text/x-python",
   "name": "python",
   "nbconvert_exporter": "python",
   "pygments_lexer": "ipython3",
   "version": "3.8.10"
  },
  "orig_nbformat": 4,
  "vscode": {
   "interpreter": {
    "hash": "916dbcbb3f70747c44a77c7bcd40155683ae19c65e1c03b4aa3499c5328201f1"
   }
  }
 },
 "nbformat": 4,
 "nbformat_minor": 2
}
