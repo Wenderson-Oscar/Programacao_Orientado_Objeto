{
 "cells": [
  {
   "cell_type": "code",
   "execution_count": 5,
   "metadata": {},
   "outputs": [
    {
     "data": {
      "text/plain": [
       "'ADS'"
      ]
     },
     "execution_count": 5,
     "metadata": {},
     "output_type": "execute_result"
    }
   ],
   "source": [
    "class Curso:\n",
    "\n",
    "    def __init__(self, nome, descricao):\n",
    "        self.nome = nome\n",
    "        self.descricao = descricao\n",
    "\n",
    "\n",
    "class Aluno:\n",
    "\n",
    "    curso: Curso\n",
    "\n",
    "    def __init__(self, nome, idade, curso: Curso):\n",
    "        self.nome = nome\n",
    "        self.idade = idade\n",
    "        self.curso = curso\n",
    "\n",
    "\n",
    "curso1 = Curso('ADS','Curso de tecnologia da informação')\n",
    "curso2 = Curso('FIS', 'Curso de licenciatura')\n",
    "aluno1 = Aluno('Oscar',20,curso1)\n",
    "aluno1.curso.nome"
   ]
  },
  {
   "cell_type": "markdown",
   "metadata": {},
   "source": [
    "# OO: RELACIONAMENTO \n",
    "\n",
    "° Associação entre objetos\n",
    "\n",
    "° Atributos de um objetos que se refere a outro \n",
    "atributo definido na classe \n"
   ]
  }
 ],
 "metadata": {
  "kernelspec": {
   "display_name": "Python 3.8.10 64-bit",
   "language": "python",
   "name": "python3"
  },
  "language_info": {
   "codemirror_mode": {
    "name": "ipython",
    "version": 3
   },
   "file_extension": ".py",
   "mimetype": "text/x-python",
   "name": "python",
   "nbconvert_exporter": "python",
   "pygments_lexer": "ipython3",
   "version": "3.8.10"
  },
  "orig_nbformat": 4,
  "vscode": {
   "interpreter": {
    "hash": "916dbcbb3f70747c44a77c7bcd40155683ae19c65e1c03b4aa3499c5328201f1"
   }
  }
 },
 "nbformat": 4,
 "nbformat_minor": 2
}
