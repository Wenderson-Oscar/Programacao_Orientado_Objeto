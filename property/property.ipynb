{
 "cells": [
  {
   "cell_type": "markdown",
   "metadata": {},
   "source": [
    "Crie uma classe pessoa que tenha nome e CPF como propriedades. O cpf é um cpf válido quando o seu tamanho é exatamente 8 caracteres."
   ]
  },
  {
   "cell_type": "code",
   "execution_count": 9,
   "metadata": {},
   "outputs": [
    {
     "data": {
      "text/plain": [
       "'12345678'"
      ]
     },
     "execution_count": 9,
     "metadata": {},
     "output_type": "execute_result"
    }
   ],
   "source": [
    "class Pessoa:\n",
    "\n",
    "    def __init__(self, nome, cpf):\n",
    "        self.__nome =nome\n",
    "        self.__cpf = cpf\n",
    "\n",
    "\n",
    "    def __validar_cpf(self, validar_cpf):\n",
    "        if len(validar_cpf) == 8:\n",
    "            return True\n",
    "        else:\n",
    "            return False\n",
    "\n",
    "\n",
    "    @property\n",
    "    def cpf(self):\n",
    "        if self.__validar_cpf(self.__cpf):\n",
    "            return self.__cpf\n",
    "        else:\n",
    "            return 'cpf Invalido!'\n",
    "\n",
    "    @cpf.setter\n",
    "    def cpf(self, novo_cpf):\n",
    "        if len(novo_cpf) == 8:\n",
    "            self.__cpf = novo_cpf\n",
    "\n",
    "    @property\n",
    "    def nome(self):\n",
    "        return self.__nome.title()\n",
    "\n",
    "\n",
    "    @nome.setter\n",
    "    def nome(self, novo_nome):\n",
    "        self.__nome = novo_nome\n",
    "        return self.__nome\n",
    "\n",
    "\n",
    "pessoa1 = Pessoa('wenderson', '1234')\n",
    "pessoa1.cpf = '12345678'\n",
    "pessoa1.cpf"
   ]
  }
 ],
 "metadata": {
  "kernelspec": {
   "display_name": "Python 3.8.10 64-bit",
   "language": "python",
   "name": "python3"
  },
  "language_info": {
   "codemirror_mode": {
    "name": "ipython",
    "version": 3
   },
   "file_extension": ".py",
   "mimetype": "text/x-python",
   "name": "python",
   "nbconvert_exporter": "python",
   "pygments_lexer": "ipython3",
   "version": "3.8.10"
  },
  "orig_nbformat": 4,
  "vscode": {
   "interpreter": {
    "hash": "916dbcbb3f70747c44a77c7bcd40155683ae19c65e1c03b4aa3499c5328201f1"
   }
  }
 },
 "nbformat": 4,
 "nbformat_minor": 2
}
