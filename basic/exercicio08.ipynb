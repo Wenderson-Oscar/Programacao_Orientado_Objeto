{
 "cells": [
  {
   "cell_type": "markdown",
   "metadata": {},
   "source": [
    "Crie uma classe que cadastre varios cliente, e informe a quantidade de cadastrado."
   ]
  },
  {
   "cell_type": "code",
   "execution_count": 4,
   "metadata": {},
   "outputs": [
    {
     "data": {
      "text/plain": [
       "2"
      ]
     },
     "execution_count": 4,
     "metadata": {},
     "output_type": "execute_result"
    }
   ],
   "source": [
    "class Cliente:\n",
    "    quant = 0\n",
    "    def __init__(self, nome, idade, sexo, email):\n",
    "        self.nome = nome \n",
    "        self.idade = idade\n",
    "        self.sexo = sexo\n",
    "        self.email = email\n",
    "        self.banco = {}\n",
    "\n",
    "\n",
    "    def cadastrar(self):\n",
    "        self.banco[\"NOME\"] = self.nome\n",
    "        self.banco[\"IDADE\"] = self.idade\n",
    "        self.banco[\"SEXO\"] = self.sexo\n",
    "        self.banco[\"EMAIL\"] = self.email\n",
    "        Cliente.quant += 1\n",
    "            \n",
    "\n",
    "pessoa1 = Cliente(\"Wenderson Oscar\",20, \"M\", \"WendersonOscar@gmail.com\")\n",
    "pessoa2 = Cliente(\"Oscar\",18, \"M\", \"Oscar@gmail.com\")\n",
    "pessoa1.cadastrar()\n",
    "pessoa2.cadastrar()\n",
    "Cliente.quant"
   ]
  }
 ],
 "metadata": {
  "kernelspec": {
   "display_name": "Python 3.8.10 64-bit",
   "language": "python",
   "name": "python3"
  },
  "language_info": {
   "codemirror_mode": {
    "name": "ipython",
    "version": 3
   },
   "file_extension": ".py",
   "mimetype": "text/x-python",
   "name": "python",
   "nbconvert_exporter": "python",
   "pygments_lexer": "ipython3",
   "version": "3.8.10"
  },
  "orig_nbformat": 4,
  "vscode": {
   "interpreter": {
    "hash": "916dbcbb3f70747c44a77c7bcd40155683ae19c65e1c03b4aa3499c5328201f1"
   }
  }
 },
 "nbformat": 4,
 "nbformat_minor": 2
}
