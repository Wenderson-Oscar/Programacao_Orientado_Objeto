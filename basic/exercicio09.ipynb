{
 "cells": [
  {
   "cell_type": "markdown",
   "metadata": {},
   "source": [
    "Crie uma classe Geladeira e que tenha todas as funcionalidades que uma do mundo real e **relacione** com outra classe.\n",
    "\n",
    "# Relacionamento \n",
    "\n",
    "Associação entre objetos\n",
    "\n",
    "Atributos de um objetos que se refere a outro atributo definido na classe.\n",
    "\n"
   ]
  },
  {
   "cell_type": "code",
   "execution_count": 18,
   "metadata": {},
   "outputs": [
    {
     "data": {
      "text/plain": [
       "'Ace'"
      ]
     },
     "execution_count": 18,
     "metadata": {},
     "output_type": "execute_result"
    }
   ],
   "source": [
    "class Geladeira:\n",
    "\n",
    "    def __init__(self, marca, cor, material, largura, altura, peso):\n",
    "        self.marca = marca\n",
    "        self.cor = cor\n",
    "        self.material = material\n",
    "        self.largura = largura\n",
    "        self.altura = altura\n",
    "        self.temporatizador = 9\n",
    "        self.peso = peso\n",
    "        self.tomada = False\n",
    "        self.itens = []\n",
    "\n",
    "    \n",
    "    def tomada_on(self):\n",
    "        self.tomada = True\n",
    "\n",
    "\n",
    "    def tomada_off(self):\n",
    "        self.tomada = False\n",
    "\n",
    "\n",
    "    def temporadizador_aumentar(self):\n",
    "        if self.temporatizador < 10:\n",
    "            self.temporatizador += 1\n",
    "        else:\n",
    "            self.temporatizador\n",
    "\n",
    "\n",
    "    def temporadizador_diminuir(self):\n",
    "        if self.temporatizador > 0:\n",
    "            self.temporatizador -= 1\n",
    "        else:\n",
    "            self.temporatizador\n",
    "\n",
    "\n",
    "    def colocar_baixo(self, *item):\n",
    "        self.itens.append(item)\n",
    "\n",
    "\n",
    "    def colocar_congelador(self, *item):\n",
    "        self.itens.append(item)\n",
    "\n",
    "\n",
    "class Dono:\n",
    "    galadeira: Geladeira\n",
    "    def __init__(self, nome, idade, sexo, geladeira: Geladeira):\n",
    "        self.nome = nome\n",
    "        self.idade = idade \n",
    "        self.sexo = sexo\n",
    "        self.geladeira = geladeira\n",
    "\n",
    "\n",
    "geladeira0 = Geladeira('Ace','preto','Ferro','20cm','2m','80 K')\n",
    "geladeira0.colocar_baixo('litro de água','refri', 'bolo')\n",
    "geladeira0.colocar_congelador('Carne','Coca-Cola')\n",
    "dono1 = Dono('Oscar',20,'M', geladeira0)\n",
    "dono1.geladeira.marca"
   ]
  },
  {
   "cell_type": "markdown",
   "metadata": {},
   "source": [
    "Na linha 46 estamos relacionando a classe Geladeira com Dono\n",
    "assim podemos dizer quem a geladeira pertence.\n",
    "\n",
    "Na linha 57 estamos dizendo quem essa geladeira pertence, assim podemos chamar qualquer atributos pela variavel dono1, como podemos ver na linha 58."
   ]
  }
 ],
 "metadata": {
  "kernelspec": {
   "display_name": "Python 3.8.10 64-bit",
   "language": "python",
   "name": "python3"
  },
  "language_info": {
   "codemirror_mode": {
    "name": "ipython",
    "version": 3
   },
   "file_extension": ".py",
   "mimetype": "text/x-python",
   "name": "python",
   "nbconvert_exporter": "python",
   "pygments_lexer": "ipython3",
   "version": "3.8.10 (default, Nov 14 2022, 12:59:47) \n[GCC 9.4.0]"
  },
  "orig_nbformat": 4,
  "vscode": {
   "interpreter": {
    "hash": "916dbcbb3f70747c44a77c7bcd40155683ae19c65e1c03b4aa3499c5328201f1"
   }
  }
 },
 "nbformat": 4,
 "nbformat_minor": 2
}
