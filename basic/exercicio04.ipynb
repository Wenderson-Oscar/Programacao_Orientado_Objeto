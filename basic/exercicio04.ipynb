{
 "cells": [
  {
   "cell_type": "markdown",
   "metadata": {},
   "source": [
    "4º Classe Pessoa: Crie uma classe que modele uma pessoa:\n",
    "\n",
    "a) Atributos: nome, idade, peso e altura\n",
    "\n",
    "b) Métodos: envelhecer, engordar, emagrecer, crescer. Obs.: por padrão, se a pessoa tiver\n",
    "menos de 21 anos a cada ano que ela envelhece ela cresce 0,5 cm\n"
   ]
  },
  {
   "cell_type": "code",
   "execution_count": 14,
   "metadata": {},
   "outputs": [
    {
     "data": {
      "text/plain": [
       "1.79"
      ]
     },
     "execution_count": 14,
     "metadata": {},
     "output_type": "execute_result"
    }
   ],
   "source": [
    "class Pessoa:\n",
    "    #Método Construtor\n",
    "    def __init__(self, nome, idade, peso, altura):\n",
    "        self.nome = nome\n",
    "        self.idade = idade\n",
    "        self.peso = peso\n",
    "        self.altura = altura\n",
    "\n",
    "\n",
    "    def envelhercer(self):\n",
    "        if self.idade < 21:\n",
    "            self.altura += 0.05\n",
    "        else:\n",
    "            self.idade += 1\n",
    "\n",
    "\n",
    "    def engordar(self, novo_peso = 0):\n",
    "        self.peso += novo_peso\n",
    "\n",
    "\n",
    "    def emagrecer(self, novo_peso = 0):\n",
    "        self.peso -= novo_peso\n",
    "\n",
    "\n",
    "    def crescer(self, nova_altura = 0):\n",
    "        self.altura += nova_altura\n",
    "\n",
    "\n",
    "obj = Pessoa('Oscar',22,55.6,1.70)\n",
    "obj.crescer(0.09)\n",
    "obj.altura"
   ]
  }
 ],
 "metadata": {
  "kernelspec": {
   "display_name": "Python 3.8.10 64-bit",
   "language": "python",
   "name": "python3"
  },
  "language_info": {
   "codemirror_mode": {
    "name": "ipython",
    "version": 3
   },
   "file_extension": ".py",
   "mimetype": "text/x-python",
   "name": "python",
   "nbconvert_exporter": "python",
   "pygments_lexer": "ipython3",
   "version": "3.8.10"
  },
  "orig_nbformat": 4,
  "vscode": {
   "interpreter": {
    "hash": "916dbcbb3f70747c44a77c7bcd40155683ae19c65e1c03b4aa3499c5328201f1"
   }
  }
 },
 "nbformat": 4,
 "nbformat_minor": 2
}
