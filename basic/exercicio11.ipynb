{
 "cells": [
  {
   "cell_type": "markdown",
   "metadata": {},
   "source": [
    "Faça uma classe qualquer que use Agregação.\n",
    "\n",
    "# Agregação\n",
    "É um tipo especial de associação onde tenta-se demonstrar que as informações de um objeto (chamado objeto-todo) *precisam ser complementados pelas informações contidas em um ou mais objetos de outra classe* (chamados objetos-parte); conhecemos como todo/parte.\n",
    "\n",
    "O objeto-pai poderá usar as informações do objeto agregado. Segundo Dall'Oglio (2007) \"Nesta relação, um objeto poderá agregar uma ou mais instâncias de um outro objeto. Para agregar muitas instâncias, a forma mais simples é utilizando arrays. Criamos um array como atributo da classe, sendo que o papel deste array é armazenar inúmeras instâncias de uma outra class\". (DALL'OGLIO, 2007, p. 118)\n",
    "\n",
    "Toda vez que temos agregação, significa que a **parte pode ser compartilhada entre vários objetos**.\n"
   ]
  },
  {
   "cell_type": "code",
   "execution_count": 11,
   "metadata": {},
   "outputs": [
    {
     "name": "stdout",
     "output_type": "stream",
     "text": [
      "1 arroz 5 20\n",
      "1 feijão 9 20\n"
     ]
    },
    {
     "data": {
      "text/plain": [
       "(1, 'arroz', 5, 20)"
      ]
     },
     "execution_count": 11,
     "metadata": {},
     "output_type": "execute_result"
    }
   ],
   "source": [
    "class Cliente:\n",
    "\n",
    "    def __init__(self, nome, idade, sexo):\n",
    "        self.nome = nome \n",
    "        self.idade = idade\n",
    "        self.sexo = sexo\n",
    "\n",
    "\n",
    "class Produtos:\n",
    "\n",
    "    def __init__(self, codigo, desc_produto, preco, quantidade):\n",
    "        self.codigo = codigo\n",
    "        self.desc_produto = desc_produto\n",
    "        self.preco = preco\n",
    "        self.quantidade = quantidade\n",
    "\n",
    "\n",
    "    def listar_dados(self):\n",
    "        return self.codigo, self.desc_produto, self.preco, self.quantidade\n",
    "\n",
    "\n",
    "class Carrinhos:\n",
    "    client: Cliente\n",
    "    def __init__(self, client: Cliente):\n",
    "        self.itens = []\n",
    "        self.client = client\n",
    "\n",
    "\n",
    "    def comprar(self, produt):\n",
    "        self.itens.append(produt)\n",
    "\n",
    "\n",
    "    def listar_produtos(self):\n",
    "        for itens in self.itens:\n",
    "            print(itens.codigo, itens.desc_produto, itens.preco, itens.quantidade)\n",
    "\n",
    "\n",
    "    def soma_total(self):\n",
    "        total = 0\n",
    "        for itens in self.itens:\n",
    "            total += itens.preco\n",
    "        return total\n",
    "\n",
    "\n",
    "cliente = Cliente('Oscar',20,'M')\n",
    "produto1 = Produtos(1,'arroz',5,20)\n",
    "produto2 = Produtos(1,'feijão',9,20)\n",
    "carro = Carrinhos(cliente)\n",
    "carro.comprar(produto1)\n",
    "carro.comprar(produto2)\n",
    "carro.listar_produtos()\n",
    "carro.soma_total()"
   ]
  }
 ],
 "metadata": {
  "kernelspec": {
   "display_name": "Python 3.8.10 64-bit",
   "language": "python",
   "name": "python3"
  },
  "language_info": {
   "codemirror_mode": {
    "name": "ipython",
    "version": 3
   },
   "file_extension": ".py",
   "mimetype": "text/x-python",
   "name": "python",
   "nbconvert_exporter": "python",
   "pygments_lexer": "ipython3",
   "version": "3.8.10 (default, Nov 14 2022, 12:59:47) \n[GCC 9.4.0]"
  },
  "orig_nbformat": 4,
  "vscode": {
   "interpreter": {
    "hash": "916dbcbb3f70747c44a77c7bcd40155683ae19c65e1c03b4aa3499c5328201f1"
   }
  }
 },
 "nbformat": 4,
 "nbformat_minor": 2
}
