{
 "cells": [
  {
   "cell_type": "markdown",
   "metadata": {},
   "source": [
    "1º Classe Bola: Crie uma classe que modele uma bola:\n",
    "\n",
    "a)  Atributos: Cor, circunferência, material\n",
    "\n",
    "b)  Métodos: trocaCor, mostraCor\n"
   ]
  },
  {
   "cell_type": "code",
   "execution_count": 16,
   "metadata": {},
   "outputs": [
    {
     "data": {
      "text/plain": [
       "'azul'"
      ]
     },
     "execution_count": 16,
     "metadata": {},
     "output_type": "execute_result"
    }
   ],
   "source": [
    "class Bola:\n",
    "    #Método Construtor\n",
    "    def __init__(self, cor, circunferencia, material):\n",
    "        self.cor = cor\n",
    "        self.circunferencia = circunferencia\n",
    "        self.material = material\n",
    "\n",
    "    \n",
    "    def troca_cor(self, cor):\n",
    "        self.cor = cor\n",
    "\n",
    "\n",
    "    def mostrar_cor(self):\n",
    "        return self.cor\n",
    "\n",
    "\n",
    "obj = Bola('verde',69, 'borracha')\n",
    "obj.troca_cor('azul')\n",
    "obj.mostra_rcor()"
   ]
  }
 ],
 "metadata": {
  "kernelspec": {
   "display_name": "Python 3.8.10 64-bit",
   "language": "python",
   "name": "python3"
  },
  "language_info": {
   "codemirror_mode": {
    "name": "ipython",
    "version": 3
   },
   "file_extension": ".py",
   "mimetype": "text/x-python",
   "name": "python",
   "nbconvert_exporter": "python",
   "pygments_lexer": "ipython3",
   "version": "3.8.10"
  },
  "orig_nbformat": 4,
  "vscode": {
   "interpreter": {
    "hash": "916dbcbb3f70747c44a77c7bcd40155683ae19c65e1c03b4aa3499c5328201f1"
   }
  }
 },
 "nbformat": 4,
 "nbformat_minor": 2
}
