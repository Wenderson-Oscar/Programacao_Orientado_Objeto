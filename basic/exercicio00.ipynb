{
 "cells": [
  {
   "cell_type": "markdown",
   "metadata": {},
   "source": [
    "Adicione os atributos tamanho e marca à classe Televisão . Crie\n",
    "dois objetos Televisão e atribua tamanhos e marcas diferentes. Depois, imprima o\n",
    "valor desses atributos de forma a confirmar a independência dos valores de cada\n",
    "instância (objeto)."
   ]
  },
  {
   "cell_type": "code",
   "execution_count": 5,
   "metadata": {},
   "outputs": [
    {
     "data": {
      "text/plain": [
       "'12cm'"
      ]
     },
     "execution_count": 5,
     "metadata": {},
     "output_type": "execute_result"
    }
   ],
   "source": [
    "class Televisao:\n",
    "    #Método Construtor\n",
    "    def __init__(self, marca, tamanho):\n",
    "        self.marca = marca\n",
    "        self.tamanho = tamanho\n",
    "\n",
    "\n",
    "obj1 = Televisao('ASI','12cm')\n",
    "obj1.tamanho"
   ]
  }
 ],
 "metadata": {
  "kernelspec": {
   "display_name": "Python 3.8.10 64-bit",
   "language": "python",
   "name": "python3"
  },
  "language_info": {
   "codemirror_mode": {
    "name": "ipython",
    "version": 3
   },
   "file_extension": ".py",
   "mimetype": "text/x-python",
   "name": "python",
   "nbconvert_exporter": "python",
   "pygments_lexer": "ipython3",
   "version": "3.8.10"
  },
  "orig_nbformat": 4,
  "vscode": {
   "interpreter": {
    "hash": "916dbcbb3f70747c44a77c7bcd40155683ae19c65e1c03b4aa3499c5328201f1"
   }
  }
 },
 "nbformat": 4,
 "nbformat_minor": 2
}
