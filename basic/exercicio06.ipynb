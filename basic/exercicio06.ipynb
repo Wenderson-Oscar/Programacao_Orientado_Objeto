{
 "cells": [
  {
   "cell_type": "markdown",
   "metadata": {},
   "source": [
    "Crie uma classe Quadrilátero que tenha como método calcula área, sendo que se receber um parâmetro vai calcular a área de um quadrado e se receber 2 parâmetros vai calcular a área de um retângulo."
   ]
  },
  {
   "cell_type": "code",
   "execution_count": 1,
   "metadata": {},
   "outputs": [
    {
     "ename": "TypeError",
     "evalue": "unsupported operand type(s) for *: 'int' and 'NoneType'",
     "output_type": "error",
     "traceback": [
      "\u001b[0;31m---------------------------------------------------------------------------\u001b[0m",
      "\u001b[0;31mTypeError\u001b[0m                                 Traceback (most recent call last)",
      "Cell \u001b[0;32mIn [1], line 16\u001b[0m\n\u001b[1;32m     12\u001b[0m             \u001b[39mreturn\u001b[39;00m \u001b[39mself\u001b[39m\u001b[39m.\u001b[39mladoA \u001b[39m*\u001b[39m \u001b[39mself\u001b[39m\u001b[39m.\u001b[39mladoB\n\u001b[1;32m     15\u001b[0m obj \u001b[39m=\u001b[39m Quadrilatero(\u001b[39m12\u001b[39m)\n\u001b[0;32m---> 16\u001b[0m obj\u001b[39m.\u001b[39;49mcalcular_area()\n",
      "Cell \u001b[0;32mIn [1], line 12\u001b[0m, in \u001b[0;36mQuadrilatero.calcular_area\u001b[0;34m(self)\u001b[0m\n\u001b[1;32m     10\u001b[0m     \u001b[39mreturn\u001b[39;00m \u001b[39mself\u001b[39m\u001b[39m.\u001b[39mladoA \u001b[39m*\u001b[39m \u001b[39mself\u001b[39m\u001b[39m.\u001b[39mladoA\n\u001b[1;32m     11\u001b[0m \u001b[39melse\u001b[39;00m:\n\u001b[0;32m---> 12\u001b[0m     \u001b[39mreturn\u001b[39;00m \u001b[39mself\u001b[39;49m\u001b[39m.\u001b[39;49mladoA \u001b[39m*\u001b[39;49m \u001b[39mself\u001b[39;49m\u001b[39m.\u001b[39;49mladoB\n",
      "\u001b[0;31mTypeError\u001b[0m: unsupported operand type(s) for *: 'int' and 'NoneType'"
     ]
    }
   ],
   "source": [
    "class Quadrilatero:\n",
    "\n",
    "    def __init__(self, ladoA, ladoB = 0):\n",
    "        self.ladoA = ladoA\n",
    "        self.ladoB = ladoB\n",
    "\n",
    "\n",
    "    def calcular_area(self):\n",
    "        if self.ladoB == 0:\n",
    "            return self.ladoA * self.ladoA\n",
    "        else:\n",
    "            return self.ladoA * self.ladoB\n",
    "\n",
    "\n",
    "obj = Quadrilatero(12)\n",
    "obj.calcular_area()"
   ]
  }
 ],
 "metadata": {
  "kernelspec": {
   "display_name": "Python 3.8.10 64-bit",
   "language": "python",
   "name": "python3"
  },
  "language_info": {
   "codemirror_mode": {
    "name": "ipython",
    "version": 3
   },
   "file_extension": ".py",
   "mimetype": "text/x-python",
   "name": "python",
   "nbconvert_exporter": "python",
   "pygments_lexer": "ipython3",
   "version": "3.8.10"
  },
  "orig_nbformat": 4,
  "vscode": {
   "interpreter": {
    "hash": "916dbcbb3f70747c44a77c7bcd40155683ae19c65e1c03b4aa3499c5328201f1"
   }
  }
 },
 "nbformat": 4,
 "nbformat_minor": 2
}
