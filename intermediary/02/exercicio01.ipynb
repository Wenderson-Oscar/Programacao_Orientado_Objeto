{
 "cells": [
  {
   "cell_type": "markdown",
   "metadata": {},
   "source": [
    "Crie uma classe usando heranca com o seu conhecimento."
   ]
  },
  {
   "cell_type": "code",
   "execution_count": 1,
   "metadata": {},
   "outputs": [
    {
     "name": "stdout",
     "output_type": "stream",
     "text": [
      "Oscar fala:  Olá, prazer em Conhecer você. \n"
     ]
    }
   ],
   "source": [
    "class Pessoa:\n",
    "\n",
    "    def __init__(self, nome, sobrenome):\n",
    "        self.nome = nome\n",
    "        self.sobrenome = sobrenome\n",
    "\n",
    "\n",
    "    def falar(self, txt: str):\n",
    "        print(self.nome, 'fala: ', txt)\n",
    "\n",
    "\n",
    "class Aluno(Pessoa):\n",
    "\n",
    "    def __init__(self, nome, sobrenome, curso, ano):\n",
    "        super().__init__(nome, sobrenome)\n",
    "        self.curso = curso\n",
    "        self.ano = ano\n",
    "\n",
    "\n",
    "aluno = Aluno('Oscar','Santos','ADS',3)\n",
    "aluno.sobrenome\n",
    "aluno.falar('Olá, prazer em Conhecer você. ')"
   ]
  },
  {
   "cell_type": "markdown",
   "metadata": {},
   "source": [
    "Ao Herdarmos a classe, podemos tanto usar os atributos como os métodos da classe Pai, ela também herda os atributos e métodos 'privados'.\n",
    "\n",
    "A super()função é usada para dar acesso a métodos e propriedades de uma classe pai ou irmã.\n",
    "\n",
    "A super()função retorna um objeto que representa a classe pai.\n"
   ]
  }
 ],
 "metadata": {
  "kernelspec": {
   "display_name": "Python 3.8.10 64-bit",
   "language": "python",
   "name": "python3"
  },
  "language_info": {
   "codemirror_mode": {
    "name": "ipython",
    "version": 3
   },
   "file_extension": ".py",
   "mimetype": "text/x-python",
   "name": "python",
   "nbconvert_exporter": "python",
   "pygments_lexer": "ipython3",
   "version": "3.8.10"
  },
  "orig_nbformat": 4,
  "vscode": {
   "interpreter": {
    "hash": "916dbcbb3f70747c44a77c7bcd40155683ae19c65e1c03b4aa3499c5328201f1"
   }
  }
 },
 "nbformat": 4,
 "nbformat_minor": 2
}
