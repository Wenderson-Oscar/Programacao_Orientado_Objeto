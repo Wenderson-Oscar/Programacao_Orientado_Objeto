{
 "cells": [
  {
   "cell_type": "markdown",
   "metadata": {},
   "source": [
    "Crie uma class que use herança mutiplica"
   ]
  },
  {
   "cell_type": "code",
   "execution_count": 72,
   "metadata": {},
   "outputs": [
    {
     "name": "stdout",
     "output_type": "stream",
     "text": [
      "Brazil Rio de Janeiro Rio Rua da Tuta Novo Rio 45\n"
     ]
    }
   ],
   "source": [
    "class Endereco:\n",
    "    \n",
    "    def __init__(self, pais: str, estado: str, municipio: str,\n",
    "    rua: str, bairro: str, numero: int) -> None:\n",
    "        self._pais = pais\n",
    "        self._estado = estado\n",
    "        self._municipio = municipio\n",
    "        self._rua = rua\n",
    "        self._numero = numero\n",
    "        self._bairro = bairro\n",
    "\n",
    "\n",
    "    @property\n",
    "    def endereco(self) -> str:\n",
    "        print(self._pais, self._estado, self._municipio, self._rua, self._bairro, self._numero)\n",
    "\n",
    "\n",
    "class Loja():\n",
    "    def __init__(self, nome, endereco: Endereco):\n",
    "        self.nome = nome\n",
    "        self._endereco = endereco\n",
    "        self.__produto = []\n",
    "\n",
    "\n",
    "    @property\n",
    "    def produtos(self):\n",
    "        return self.__produto\n",
    "\n",
    "\n",
    "    @produtos.setter\n",
    "    def produtos(self, produto):\n",
    "        self.__produto.append(produto)\n",
    "\n",
    "\n",
    "    def __listar_produtos(self):\n",
    "        print(self.__produto)\n",
    "\n",
    "\n",
    "    @property\n",
    "    def listar_produtos(self):\n",
    "        self.__listar_produtos()\n",
    "\n",
    "\n",
    "class Dono(Loja, Endereco):\n",
    "    \n",
    "    def __init__(self, nome, idade, sexo, lojas: Loja):\n",
    "        self.nome = nome\n",
    "        self.idade = idade\n",
    "        self.sexo = sexo\n",
    "        self._lojas = lojas\n",
    "\n",
    "\n",
    "    def __modify_endereco(self, pais, estado, municipio, rua, bairro, numero):\n",
    "        self._pais = pais\n",
    "        self._estado = estado\n",
    "        self._municipio = municipio\n",
    "        self._rua = rua\n",
    "        self._bairro = bairro\n",
    "        self._numero = numero\n",
    "\n",
    "\n",
    "    def get_mudar_endereco_lojas(self) -> str:\n",
    "        return super().endereco\n",
    "\n",
    "\n",
    "    def set_mudar_endereco_lojas(self, pais, estado, municipio, rua, bairro, numero):\n",
    "        self.__modify_endereco(pais, estado, municipio, rua, bairro, numero)\n",
    "        \n",
    "\n",
    "\n",
    "endereco = Endereco('Brazil','Píaui','Corrente','Rua Emanoel','Nova Corrente',23)\n",
    "lojas = Loja('Oscar Varejo',endereco)\n",
    "dono = Dono('Oscar',20,'M', lojas)\n",
    "dono._lojas.nome\n",
    "dono.set_mudar_endereco_lojas('Brazil','Rio de Janeiro', 'Rio','Rua da Tuta','Novo Rio',45)\n",
    "dono.get_mudar_endereco_lojas()"
   ]
  }
 ],
 "metadata": {
  "kernelspec": {
   "display_name": "Python 3.8.10 64-bit",
   "language": "python",
   "name": "python3"
  },
  "language_info": {
   "codemirror_mode": {
    "name": "ipython",
    "version": 3
   },
   "file_extension": ".py",
   "mimetype": "text/x-python",
   "name": "python",
   "nbconvert_exporter": "python",
   "pygments_lexer": "ipython3",
   "version": "3.8.10"
  },
  "orig_nbformat": 4,
  "vscode": {
   "interpreter": {
    "hash": "916dbcbb3f70747c44a77c7bcd40155683ae19c65e1c03b4aa3499c5328201f1"
   }
  }
 },
 "nbformat": 4,
 "nbformat_minor": 2
}
