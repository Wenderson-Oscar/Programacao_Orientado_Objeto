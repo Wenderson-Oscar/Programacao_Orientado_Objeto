{
 "cells": [
  {
   "cell_type": "markdown",
   "metadata": {},
   "source": [
    "# Polimorfismo"
   ]
  },
  {
   "cell_type": "code",
   "execution_count": 26,
   "metadata": {},
   "outputs": [
    {
     "data": {
      "text/plain": [
       "1260.0"
      ]
     },
     "execution_count": 26,
     "metadata": {},
     "output_type": "execute_result"
    }
   ],
   "source": [
    "class Funcionario:\n",
    "\n",
    "    def __init__(self, nome, sobrenome, salario, idade):\n",
    "        self.nome = nome\n",
    "        self.sobrenome = sobrenome\n",
    "        self._salario = salario\n",
    "        self.idade = idade\n",
    "\n",
    "\n",
    "    def get_bonificacao_aniversario(self):\n",
    "        return self._salario\n",
    "\n",
    "\n",
    "    def set_bonificacao_aniversario(self, new_idade):\n",
    "        if new_idade > self.idade:\n",
    "            self._salario = self._salario + self._salario * 0.05\n",
    "\n",
    "\n",
    "class Gerente(Funcionario):\n",
    "\n",
    "    def __init__(self, nome, sobrenome, salario, idade, tipo_gerente):\n",
    "        super().__init__(nome, sobrenome, salario, idade)\n",
    "        self.tipo_gerente = tipo_gerente\n",
    "\n",
    "    #subscrever o método\n",
    "    def set_bonificacao_aniversario(self, new_idade):\n",
    "        if new_idade > self.idade:\n",
    "            self._salario = self._salario + self._salario * 0.10\n",
    "\n",
    "\n",
    "funcionario0 = Gerente('Oscar','Santos',3200,32,'Markting')\n",
    "funcionario0.set_bonificacao_aniversario(33)\n",
    "funcionario0.get_bonificacao_aniversario()\n",
    "funcionario1 = Funcionario('Wenderson Oscar','Santos',1200,20)\n",
    "funcionario1.set_bonificacao_aniversario(21)\n",
    "funcionario1.get_bonificacao_aniversario()"
   ]
  },
  {
   "cell_type": "markdown",
   "metadata": {},
   "source": [
    "percebam que quando a gente subscreve um método em uma classe filha, esse método não afeta a classe base."
   ]
  }
 ],
 "metadata": {
  "kernelspec": {
   "display_name": "Python 3.8.10 64-bit",
   "language": "python",
   "name": "python3"
  },
  "language_info": {
   "codemirror_mode": {
    "name": "ipython",
    "version": 3
   },
   "file_extension": ".py",
   "mimetype": "text/x-python",
   "name": "python",
   "nbconvert_exporter": "python",
   "pygments_lexer": "ipython3",
   "version": "3.8.10"
  },
  "orig_nbformat": 4,
  "vscode": {
   "interpreter": {
    "hash": "916dbcbb3f70747c44a77c7bcd40155683ae19c65e1c03b4aa3499c5328201f1"
   }
  }
 },
 "nbformat": 4,
 "nbformat_minor": 2
}
