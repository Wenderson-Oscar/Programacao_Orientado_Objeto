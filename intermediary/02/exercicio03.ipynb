{
 "cells": [
  {
   "cell_type": "markdown",
   "metadata": {},
   "source": [
    "crie uns Objetos, e subscreva seus métodos(Polimorfismo)."
   ]
  },
  {
   "cell_type": "code",
   "execution_count": 2,
   "metadata": {},
   "outputs": [
    {
     "data": {
      "text/plain": [
       "10"
      ]
     },
     "execution_count": 2,
     "metadata": {},
     "output_type": "execute_result"
    }
   ],
   "source": [
    "class Animal:\n",
    "\n",
    "    def __init__(self, nome_animal, especie, altura, largura):\n",
    "        self.nome_animal = nome_animal\n",
    "        self.especie = especie\n",
    "        self.altura = altura\n",
    "        self.largura = largura\n",
    "\n",
    "\n",
    "    def tipo_de_comida(self, txt: str):\n",
    "        return txt\n",
    "\n",
    "\n",
    "    def saude(self):\n",
    "        return 10\n",
    "\n",
    "\n",
    "class Cachorro(Animal):\n",
    "\n",
    "    def __init__(self, nome_animal, especie, altura, largura, tipo_pelos, velocidade):\n",
    "        super().__init__(nome_animal, especie, altura, largura)\n",
    "        self.tipo_pelos = tipo_pelos\n",
    "        self.velocidade = velocidade\n",
    "\n",
    "\n",
    "    def tipo_de_comida(self, txt: str):\n",
    "        return f'{self.nome_animal} - comida: {txt}'\n",
    "\n",
    "\n",
    "class Estimacao(Cachorro):\n",
    "\n",
    "    def __init__(self, nome_animal, especie, altura, largura, tipo_pelos, velocidade, castrado):\n",
    "        super().__init__(nome_animal, especie, altura, largura, tipo_pelos, velocidade)\n",
    "        self.castrado = castrado\n",
    "\n",
    "\n",
    "    def saude(self):\n",
    "        return 50\n",
    "\n",
    "\n",
    "estimacao0 = Estimacao('Caramelo','vira-lata',0.40,0.50,'peludo','30km','Sim')\n",
    "estimacao0.tipo_de_comida('ração')\n",
    "estimacao0.saude()\n",
    "estimacao1 = Cachorro('Ario','pite',0.90,0.60,'nenhum','50km')\n",
    "estimacao1.saude()"
   ]
  }
 ],
 "metadata": {
  "kernelspec": {
   "display_name": "Python 3.8.10 64-bit",
   "language": "python",
   "name": "python3"
  },
  "language_info": {
   "codemirror_mode": {
    "name": "ipython",
    "version": 3
   },
   "file_extension": ".py",
   "mimetype": "text/x-python",
   "name": "python",
   "nbconvert_exporter": "python",
   "pygments_lexer": "ipython3",
   "version": "3.8.10"
  },
  "orig_nbformat": 4,
  "vscode": {
   "interpreter": {
    "hash": "916dbcbb3f70747c44a77c7bcd40155683ae19c65e1c03b4aa3499c5328201f1"
   }
  }
 },
 "nbformat": 4,
 "nbformat_minor": 2
}
