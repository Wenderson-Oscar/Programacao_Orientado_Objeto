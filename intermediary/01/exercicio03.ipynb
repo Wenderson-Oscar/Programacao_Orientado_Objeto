{
 "cells": [
  {
   "cell_type": "markdown",
   "metadata": {},
   "source": [
    "@staticmethod\n",
    "\n",
    "Dessa forma posso acessar um método da classe sem criar um objeto da classe Conta."
   ]
  },
  {
   "cell_type": "code",
   "execution_count": 1,
   "metadata": {},
   "outputs": [
    {
     "data": {
      "text/plain": [
       "{'BB': '001', 'CAIXA': '101', 'BRADESCO': '200'}"
      ]
     },
     "execution_count": 1,
     "metadata": {},
     "output_type": "execute_result"
    }
   ],
   "source": [
    "class Conta:\n",
    "\n",
    "    def __init__(self):\n",
    "        self.codigos_banco = {}\n",
    "\n",
    "\n",
    "    @staticmethod\n",
    "    def codigos_bancos():\n",
    "        return {'BB': '001','CAIXA': '101','BRADESCO': '200'}\n",
    "\n",
    "\n",
    "Conta.codigos_bancos()"
   ]
  },
  {
   "attachments": {},
   "cell_type": "markdown",
   "metadata": {},
   "source": [
    "No @staticmethod temos uma função que não passa implicitamente nem o objeto e nem a classe como parâmetro, é basicamente uma função dentro da classe.\n",
    "\n",
    "Geralmente utilizados quando você tem uma função que executa lógica que interage com o objeto/classe, aí você pode criar um staticmethod com este intuito.\n",
    "\n",
    "Basicamente o staticmethod é uma função de uma classe que interage de alguma forma com o objeto, ela poderia estar solta no código, mas por fim de organização e manutenção colocamos ela na classe.\n"
   ]
  }
 ],
 "metadata": {
  "kernelspec": {
   "display_name": "Python 3.8.10 64-bit",
   "language": "python",
   "name": "python3"
  },
  "language_info": {
   "codemirror_mode": {
    "name": "ipython",
    "version": 3
   },
   "file_extension": ".py",
   "mimetype": "text/x-python",
   "name": "python",
   "nbconvert_exporter": "python",
   "pygments_lexer": "ipython3",
   "version": "3.8.10 (default, Nov 14 2022, 12:59:47) \n[GCC 9.4.0]"
  },
  "orig_nbformat": 4,
  "vscode": {
   "interpreter": {
    "hash": "916dbcbb3f70747c44a77c7bcd40155683ae19c65e1c03b4aa3499c5328201f1"
   }
  }
 },
 "nbformat": 4,
 "nbformat_minor": 2
}
