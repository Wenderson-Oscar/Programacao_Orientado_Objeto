{
 "cells": [
  {
   "cell_type": "markdown",
   "metadata": {},
   "source": [
    "Crie uma classe Banco"
   ]
  },
  {
   "cell_type": "code",
   "execution_count": 19,
   "metadata": {},
   "outputs": [
    {
     "name": "stdout",
     "output_type": "stream",
     "text": [
      "[1, 'Oscar', '27/06/2002', 0, 1000], [2, 'Wenderson Oscar', '27/06/2002', 0, 1000], [3, 'Maria', '27/06/2002', 0, 1000], "
     ]
    },
    {
     "data": {
      "text/plain": [
       "10000"
      ]
     },
     "execution_count": 19,
     "metadata": {},
     "output_type": "execute_result"
    }
   ],
   "source": [
    "class Banco:\n",
    "\n",
    "    def __init__(self, limite = 1000, saldo = 0):\n",
    "        self.__limite = limite\n",
    "        self.__saldo = saldo\n",
    "        self.__banco = {}\n",
    "\n",
    "\n",
    "    def set_create_client(self, id, nome, nascimento):\n",
    "        if 'clientes' not in self.__banco:\n",
    "            self.__banco['clientes'] = [[id, nome, nascimento, self.__saldo, self.__limite]]\n",
    "        else:\n",
    "            self.__banco['clientes'].append([id, nome, nascimento, self.__saldo, self.__limite])\n",
    "        \n",
    "    def get_listar_client(self):\n",
    "        for i in self.__banco['clientes']:\n",
    "            print(i, end=', ')\n",
    "\n",
    "\n",
    "    def get_depositar(self):\n",
    "        return self.__saldo\n",
    "\n",
    "\n",
    "    def set_depositar(self, valor):\n",
    "        self.__saldo = self.__saldo + valor\n",
    "\n",
    "\n",
    "    @property\n",
    "    def sacar(self):\n",
    "        return self.__saldo\n",
    "\n",
    "    @sacar.setter\n",
    "    def sacar(self, valor):\n",
    "        if valor <= self.__saldo and valor <= self.__limite:\n",
    "            self.__saldo = self.__saldo - valor\n",
    "\n",
    "\n",
    "cliente = Banco()\n",
    "cliente.set_create_client(1,'Oscar','27/06/2002')\n",
    "cliente.set_create_client(2,'Wenderson Oscar','27/06/2002')\n",
    "cliente.set_create_client(3,'Maria','27/06/2002')\n",
    "cliente.get_listar_client()\n",
    "cliente.set_depositar(10000)\n",
    "cliente.get_depositar()\n",
    "cliente.sacar = 1100\n",
    "cliente.sacar"
   ]
  }
 ],
 "metadata": {
  "kernelspec": {
   "display_name": "Python 3.8.10 64-bit",
   "language": "python",
   "name": "python3"
  },
  "language_info": {
   "codemirror_mode": {
    "name": "ipython",
    "version": 3
   },
   "file_extension": ".py",
   "mimetype": "text/x-python",
   "name": "python",
   "nbconvert_exporter": "python",
   "pygments_lexer": "ipython3",
   "version": "3.8.10"
  },
  "orig_nbformat": 4,
  "vscode": {
   "interpreter": {
    "hash": "916dbcbb3f70747c44a77c7bcd40155683ae19c65e1c03b4aa3499c5328201f1"
   }
  }
 },
 "nbformat": 4,
 "nbformat_minor": 2
}
