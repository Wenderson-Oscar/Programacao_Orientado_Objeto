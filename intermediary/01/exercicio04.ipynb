{
 "cells": [
  {
   "cell_type": "markdown",
   "metadata": {},
   "source": [
    "Crie uma classe Banco"
   ]
  },
  {
   "cell_type": "code",
   "execution_count": 12,
   "metadata": {},
   "outputs": [
    {
     "data": {
      "text/plain": [
       "[{'Id': 1,\n",
       "  'Nome': 'Oscar',\n",
       "  'Nascimento': '27/08/2002',\n",
       "  'Saldo': 0,\n",
       "  'Limite': 1000},\n",
       " {'Id': 2,\n",
       "  'Nome': 'Wenderson Oscar',\n",
       "  'Nascimento': '27/06/2002',\n",
       "  'Saldo': 10000,\n",
       "  'Limite': 1000},\n",
       " {'Id': 3,\n",
       "  'Nome': 'Maria',\n",
       "  'Nascimento': '20/06/2000',\n",
       "  'Saldo': 0,\n",
       "  'Limite': 1000}]"
      ]
     },
     "execution_count": 12,
     "metadata": {},
     "output_type": "execute_result"
    }
   ],
   "source": [
    "class Banco:\n",
    "\n",
    "    def __init__(self, limite = 1000, saldo = 0, adm = 123):\n",
    "        self.__limite = limite\n",
    "        self.__saldo = saldo\n",
    "        self.__adm = adm\n",
    "        self.__client_banco = {}\n",
    "\n",
    "\n",
    "    def set_criar_client(self, id: int, nome: str, nascimento: str):\n",
    "        if 'Cliente' not in self.__client_banco:\n",
    "            self.__client_banco = {'Cliente': [{'Id': id, 'Nome': nome ,'Nascimento': nascimento, 'Saldo': self.__saldo ,'Limite': self.__limite}]}\n",
    "        else:\n",
    "            self.__client_banco['Cliente'].append({'Id': id, 'Nome': nome,'Nascimento': nascimento, 'Saldo': self.__saldo ,'Limite': self.__limite})\n",
    "\n",
    "\n",
    "    def __get_criar_client(self) -> str:\n",
    "        return self.__client_banco['Cliente']\n",
    "\n",
    "    def adm(self, adm: int) -> str:\n",
    "        if self.__adm == adm:\n",
    "            return self.__get_criar_client()\n",
    "        else:\n",
    "            return 'User Invalido!'\n",
    "\n",
    "\n",
    "    def depositar(self, id: int, valor: float):\n",
    "        if self.__client_banco['Cliente'][id]:\n",
    "            self.__client_banco['Cliente'][id]['Saldo'] = self.__client_banco['Cliente'][id]['Saldo'] + valor\n",
    "\n",
    "\n",
    "    def saldo(self, id: int):\n",
    "        return self.__client_banco['Cliente'][id].get('Saldo')\n",
    "\n",
    "\n",
    "    def sacar(self, id: int ,valor: float):\n",
    "        if self.__client_banco['Cliente'][id]:\n",
    "            if valor <= self.__client_banco['Cliente'][id].get('Saldo'):\n",
    "                if valor <= self.__client_banco['Cliente'][id].get('Limite'):\n",
    "                    self.__client_banco['Cliente'][id]['Saldo'] = self.__client_banco['Cliente'][id]['Saldo'] - valor\n",
    "                else:\n",
    "                    return f'Limite de {self.__limite}'\n",
    "            else:\n",
    "                return 'Saldo insuficiente!'\n",
    "\n",
    "\n",
    "cliente = Banco()\n",
    "cliente.set_criar_client(1,'Oscar','27/08/2002')\n",
    "cliente.set_criar_client(2,'Wenderson Oscar','27/06/2002')\n",
    "cliente.set_criar_client(3,'Maria','20/06/2000')\n",
    "cliente.depositar(1, 10000)\n",
    "cliente.saldo(1)\n",
    "cliente.sacar(1, 1200)\n",
    "cliente.saldo(1)\n",
    "cliente.adm(123)"
   ]
  }
 ],
 "metadata": {
  "kernelspec": {
   "display_name": "Python 3.8.10 64-bit",
   "language": "python",
   "name": "python3"
  },
  "language_info": {
   "codemirror_mode": {
    "name": "ipython",
    "version": 3
   },
   "file_extension": ".py",
   "mimetype": "text/x-python",
   "name": "python",
   "nbconvert_exporter": "python",
   "pygments_lexer": "ipython3",
   "version": "3.8.10"
  },
  "orig_nbformat": 4,
  "vscode": {
   "interpreter": {
    "hash": "916dbcbb3f70747c44a77c7bcd40155683ae19c65e1c03b4aa3499c5328201f1"
   }
  }
 },
 "nbformat": 4,
 "nbformat_minor": 2
}
