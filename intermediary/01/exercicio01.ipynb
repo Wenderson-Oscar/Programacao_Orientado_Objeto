{
 "cells": [
  {
   "cell_type": "markdown",
   "metadata": {},
   "source": [
    "**DE AGORA EM DIANTE USAREMOS O GET E SET**"
   ]
  },
  {
   "cell_type": "code",
   "execution_count": 7,
   "metadata": {},
   "outputs": [
    {
     "data": {
      "text/plain": [
       "8000"
      ]
     },
     "execution_count": 7,
     "metadata": {},
     "output_type": "execute_result"
    }
   ],
   "source": [
    "class Conta:\n",
    "    #Encapsulando método\n",
    "    def __init__(self, nome, idade, saldo, limite):\n",
    "        self.__nome = nome\n",
    "        self.__idade = idade\n",
    "        self.__saldo = saldo\n",
    "        self.__limite = limite\n",
    "\n",
    "    #métodos get e set\n",
    "    def get_saque(self):\n",
    "        return self.__saldo\n",
    "\n",
    "\n",
    "    def set_saque(self, valor):\n",
    "        if valor <= self.__saldo and valor <= self.__limite:\n",
    "            self.__saldo = self.__saldo - valor\n",
    "\n",
    "\n",
    "pessoa0 = Conta('Oscar',20,8000, 2000)\n",
    "pessoa0.set_saque(3000)\n",
    "pessoa0.get_saque()\n"
   ]
  },
  {
   "cell_type": "markdown",
   "metadata": {},
   "source": [
    "Usamos **get** para obter informações. Esse tipo de método sempre retorna um valor. \n",
    "\n",
    "Usamos **set** para definir valores. Esse tipo de método geralmente não retorna valores.\n",
    "\n",
    "A ideia dos métodos get e set é permitir que atributos privados da classe possam ser buscados/modificados fora dela - sendo que devem ser criados conforme necessidade. \n",
    "\n",
    "Lembrando que os métodos de negócio são diferentes dos getters e setters; por isso que ao invés de termos set_saldo, temos saca, deposita e transfere - pois para cada uma das operações o saldo será modificado conforme a regra de negócio."
   ]
  }
 ],
 "metadata": {
  "kernelspec": {
   "display_name": "Python 3.8.10 64-bit",
   "language": "python",
   "name": "python3"
  },
  "language_info": {
   "codemirror_mode": {
    "name": "ipython",
    "version": 3
   },
   "file_extension": ".py",
   "mimetype": "text/x-python",
   "name": "python",
   "nbconvert_exporter": "python",
   "pygments_lexer": "ipython3",
   "version": "3.8.10"
  },
  "orig_nbformat": 4,
  "vscode": {
   "interpreter": {
    "hash": "916dbcbb3f70747c44a77c7bcd40155683ae19c65e1c03b4aa3499c5328201f1"
   }
  }
 },
 "nbformat": 4,
 "nbformat_minor": 2
}
