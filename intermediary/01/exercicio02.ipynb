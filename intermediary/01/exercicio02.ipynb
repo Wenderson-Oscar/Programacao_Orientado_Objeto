{
 "cells": [
  {
   "cell_type": "code",
   "execution_count": 4,
   "metadata": {},
   "outputs": [
    {
     "data": {
      "text/plain": [
       "'11122212'"
      ]
     },
     "execution_count": 4,
     "metadata": {},
     "output_type": "execute_result"
    }
   ],
   "source": [
    "class Pessoa:\n",
    "\n",
    "    def __init__(self, nome, cpf):\n",
    "        self.__nome =nome\n",
    "        self.__cpf = cpf\n",
    "\n",
    "    #método privado\n",
    "    def __validar_cpf(self, validar_cpf):\n",
    "        if len(validar_cpf) == 8:\n",
    "            return True\n",
    "        else:\n",
    "            return False\n",
    "\n",
    "\n",
    "    @property\n",
    "    def cpf(self):\n",
    "        \"\"\"para podermos chamar um método privado temos que usar o self\"\"\"\n",
    "        if self.__validar_cpf(self.__cpf):\n",
    "            return self.__cpf\n",
    "        else:\n",
    "            return 'cpf Invalido!'\n",
    "\n",
    "    @cpf.setter\n",
    "    def cpf(self, novo_cpf):\n",
    "        if self.__validar_cpf(novo_cpf):\n",
    "            self.__cpf = novo_cpf\n",
    "\n",
    "    @property\n",
    "    def nome(self):\n",
    "        return self.__nome.title()\n",
    "\n",
    "\n",
    "    @nome.setter\n",
    "    def nome(self, novo_nome):\n",
    "        self.__nome = novo_nome\n",
    "\n",
    "\n",
    "pessoa1 = Pessoa('wenderson', '1234')\n",
    "pessoa1.cpf = '11122212'\n",
    "pessoa1.cpf"
   ]
  },
  {
   "attachments": {},
   "cell_type": "markdown",
   "metadata": {},
   "source": [
    "## @Property\n",
    "\n",
    "Python possui outro mecanismo para garantir que certas variáveis de uma classe não sejam alteradas. Esse mecanismo consite do uso do decorador @property, que nos permite restringir acesso a variáveis de uma classe. \n",
    "\n",
    "@property é o decorador que indica que o método abaixo vai aparecer uma propriedade. (GET)\n",
    "\n",
    "property é você utilizar um decoration para usa o **método em uma propriedade**.\n",
    "\n",
    "Property é utilizado para trasforma um método em uma propriedade. O objeto property possui métodos getter, setter, e deleter usáveis como decoradores, que criam uma cópia da property com o assessor correspondente a função definida para a função com decorador.\n",
    "\n",
    "<hr>\n",
    "\n",
    "## Por Que usar o Property? \n",
    "\n",
    "R: Quando precisar fazer alguma validação nos dados, entre outras coisas, assim quando fizer essa auteração ele chame o método é ele vai verificar se esse dado é válido.\n",
    "<hr>\n",
    "\n",
    "### OBS:\n",
    "\n",
    "quando se usa property o nome das funções podem ser iguais. (**apenas quando estamos usando o property**).\n",
    "\n",
    "O nome do método tem que ser o mesmo nome da propriedade.\n",
    "\n",
    "Usando property, podemos ver que nenhuma modificação é necessária na implementação da restrição de valor. "
   ]
  }
 ],
 "metadata": {
  "kernelspec": {
   "display_name": "Python 3.8.10 64-bit",
   "language": "python",
   "name": "python3"
  },
  "language_info": {
   "codemirror_mode": {
    "name": "ipython",
    "version": 3
   },
   "file_extension": ".py",
   "mimetype": "text/x-python",
   "name": "python",
   "nbconvert_exporter": "python",
   "pygments_lexer": "ipython3",
   "version": "3.8.10 (default, Nov 14 2022, 12:59:47) \n[GCC 9.4.0]"
  },
  "orig_nbformat": 4,
  "vscode": {
   "interpreter": {
    "hash": "916dbcbb3f70747c44a77c7bcd40155683ae19c65e1c03b4aa3499c5328201f1"
   }
  }
 },
 "nbformat": 4,
 "nbformat_minor": 2
}
