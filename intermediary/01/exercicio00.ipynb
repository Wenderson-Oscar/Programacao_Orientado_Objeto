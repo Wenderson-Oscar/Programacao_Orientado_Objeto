{
 "cells": [
  {
   "cell_type": "markdown",
   "metadata": {},
   "source": [
    "Crie uma classe que use Encapsulamento.\n",
    "\n",
    "Obs: para fazer um atributo e método privado use o \"__\" dois anderlaine ou mais conhecido como  underscore."
   ]
  },
  {
   "cell_type": "code",
   "execution_count": 3,
   "metadata": {},
   "outputs": [
    {
     "data": {
      "text/plain": [
       "(1, 'Oscar', 20, 9020)"
      ]
     },
     "execution_count": 3,
     "metadata": {},
     "output_type": "execute_result"
    }
   ],
   "source": [
    "class Conta:\n",
    "    #Encapsulando atributos\n",
    "    def __init__(self, numero_cartao, nome, idade, saldo, limite: 1000):\n",
    "        self.__numero_cartao = numero_cartao\n",
    "        self.__nome = nome\n",
    "        self.__idade = idade\n",
    "        self.__saldo = saldo\n",
    "        self.__limite = limite\n",
    "\n",
    "\n",
    "    def depositar(self, deposito):\n",
    "        self.__saldo = self.__saldo + deposito\n",
    "\n",
    "\n",
    "    def extrato(self):\n",
    "        return self.__numero_cartao, self.__nome, self.__idade, self.__saldo\n",
    "\n",
    "\n",
    "pessoa0 = Conta(1,'Oscar',20,9000, 1000)\n",
    "#insegurança\n",
    "pessoa0._Conta__saldo #mesmo deixando os atributos privados ainda é possivel acessar\n",
    "pessoa0.depositar(20)\n",
    "pessoa0.extrato()"
   ]
  },
  {
   "cell_type": "markdown",
   "metadata": {},
   "source": [
    "caso tentarmos acessar um dos atributos pelo meio convencional teremos um erro, mas como em python o método/atributo não é privado e sim desconfigurado podemos acessar ao colocarmos um anderlaine antes da classe, ex: pessoa0._Cartao__idade\n",
    "Assim podemos ter acesso aos private em python.\n",
    "\n",
    "**MAS É EXTEMAMENTE INCORRETO USAR ISSO** só estamos mostrando para fins didatidocos.\n",
    "\n",
    " As regras de **desfiguração** de nomes foram projetadas para evitar acidentes; ainda é possível acessar ou modificar uma variável que é considerada privada. Isso pode ser útil em certas circunstâncias especiais, como depuração de código.\n",
    "<hr>"
   ]
  }
 ],
 "metadata": {
  "kernelspec": {
   "display_name": "Python 3.8.10 64-bit",
   "language": "python",
   "name": "python3"
  },
  "language_info": {
   "codemirror_mode": {
    "name": "ipython",
    "version": 3
   },
   "file_extension": ".py",
   "mimetype": "text/x-python",
   "name": "python",
   "nbconvert_exporter": "python",
   "pygments_lexer": "ipython3",
   "version": "3.8.10 (default, Nov 14 2022, 12:59:47) \n[GCC 9.4.0]"
  },
  "orig_nbformat": 4,
  "vscode": {
   "interpreter": {
    "hash": "916dbcbb3f70747c44a77c7bcd40155683ae19c65e1c03b4aa3499c5328201f1"
   }
  }
 },
 "nbformat": 4,
 "nbformat_minor": 2
}
