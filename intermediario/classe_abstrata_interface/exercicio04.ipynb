{
 "cells": [
  {
   "cell_type": "code",
   "execution_count": 9,
   "metadata": {},
   "outputs": [
    {
     "name": "stdout",
     "output_type": "stream",
     "text": [
      "praia - folgada\n",
      "preto - social\n"
     ]
    }
   ],
   "source": [
    "from abc import ABC, abstractmethod\n",
    "\n",
    "class PessoaAbstract(ABC):\n",
    "    #Interface comum\n",
    "    def __init__(self, nome, idade, sexo):\n",
    "        self._nome = nome\n",
    "        self._idade = idade\n",
    "        self._sexo = sexo\n",
    "\n",
    "\n",
    "    @abstractmethod\n",
    "    def camisa(self):\n",
    "        pass\n",
    "\n",
    "\n",
    "    @abstractmethod\n",
    "    def calca(self):\n",
    "        pass\n",
    "\n",
    "\n",
    "    @abstractmethod\n",
    "    def cueca(self):\n",
    "        pass\n",
    "\n",
    "\n",
    "    @abstractmethod\n",
    "    def meia(self):\n",
    "        pass\n",
    "\n",
    "\n",
    "    @abstractmethod\n",
    "    def sapato(self):\n",
    "        pass\n",
    "\n",
    "\n",
    "class GuardaRoupa(PessoaAbstract):\n",
    "\n",
    "    def camisa(self) -> str:\n",
    "        print('Social - Azul')\n",
    "\n",
    "\n",
    "    def calca(self) -> str:\n",
    "        print('praia - folgada')\n",
    "\n",
    "\n",
    "    def cueca(self) -> str:\n",
    "        print('preta - box')\n",
    "\n",
    "\n",
    "    def meia(self) -> str:\n",
    "        print('preta')\n",
    "\n",
    "\n",
    "    def sapato(self) -> str:\n",
    "        print('preto - social')\n",
    "\n",
    "\n",
    "client = GuardaRoupa('Oscar',20,'M')\n",
    "client.calca()\n",
    "client.sapato()\n"
   ]
  }
 ],
 "metadata": {
  "kernelspec": {
   "display_name": "Python 3.8.10 64-bit",
   "language": "python",
   "name": "python3"
  },
  "language_info": {
   "codemirror_mode": {
    "name": "ipython",
    "version": 3
   },
   "file_extension": ".py",
   "mimetype": "text/x-python",
   "name": "python",
   "nbconvert_exporter": "python",
   "pygments_lexer": "ipython3",
   "version": "3.8.10"
  },
  "orig_nbformat": 4,
  "vscode": {
   "interpreter": {
    "hash": "916dbcbb3f70747c44a77c7bcd40155683ae19c65e1c03b4aa3499c5328201f1"
   }
  }
 },
 "nbformat": 4,
 "nbformat_minor": 2
}
